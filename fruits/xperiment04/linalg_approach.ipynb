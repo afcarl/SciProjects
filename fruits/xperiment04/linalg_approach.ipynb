{
 "cells": [
  {
   "cell_type": "heading 1",
   "metadata": {},
   "level": 1,
   "source": [
    "ENG"
   ]
  },
  {
   "cell_type": "markdown",
   "metadata": {},
   "source": [
    "Let $N_1(\\mu_1, \\Sigma_1)$ and $N_2(\\mu_2, \\Sigma_2)$ be two bivariate normal distributions, where $\\mu$ stands for the mean vectors and $\\Sigma$ stands for the covariance matrices.\n",
    "\n",
    "$N_2$ can be derived from $N_1$ by multipliing it with $W$ (matrix) and translating by $b$ (vector).\n",
    "\n",
    "$ W = \\Sigma_1^{-1} \\Sigma_2 $\n",
    "\n",
    "$ b = \\mu_2 - \\mu_1 $\n",
    "\n",
    "Let $x$ be a point (vector) in this space.\n",
    "\n",
    "Let $\\alpha$ be a scalar value in the range 0 - 1. We are basically mixing (producing a linear combination) of $N_1$ and $N_2$ with a rate of $\\alpha$.\n",
    "\n",
    "We are looking for the $\\alpha$ value, which minimalizes the Mahalanobis distance between the mixture distribution and $x$.\n",
    "\n",
    "Mahalanobis distance: $ M = (x - \\mu)^T \\Sigma^{-1} (x - \\mu) $,\n",
    "\n",
    "in our case $ \\mu = \\mu_1 + \\alpha \\mu_2 $ and $ \\Sigma = \\Sigma_1 \\alpha W $\n",
    "\n",
    "$$ D = (x - \\mu_1 - \\alpha * \\mu_2)^T . (\\Sigma_1 . \\alpha W)^{-1} . (x - \\mu_1 - \\alpha * \\mu_2) $$\n",
    "\n",
    "This will be the $\\alpha$ value, which evaluates the first derivative of the above expression wrt. $\\alpha$ to 0. \".\" denotes the matrix product. \"*\" is used for scalar multiplication."
   ]
  },
  {
   "cell_type": "heading",
   "metadata": {},
   "level": 1,
   "source": [
    "HUN"
   ]
  },
  {
   "cell_type": "markdown",
   "metadata": {
    "collapsed": true
   },
   "source": [
    "Adott $N_1(\\mu_1, \\Sigma_1)$ és $N_2(\\mu_2, \\Sigma_2)$ két darab kétváltozós normál eloszlás, ahol $\\mu$ az eloszlás átlag-vektorát, $\\Sigma$ a kovarianca mátrixot jelöli.\n",
    "\n",
    "$N_1$ eloszlásból $N_2$ eloszlást $W$ transzformációval és $b$ eltolással nyerjük.\n",
    "\n",
    "$ W = \\Sigma_1^{-1} \\Sigma_2 $\n",
    "\n",
    "$ b = \\mu_2 - \\mu_1 $\n",
    "\n",
    "Adott $x$ pont (vektor) ebben a térben.\n",
    "\n",
    "Adott $\\alpha$ 0 - 1 közé eső skalár.\n",
    "\n",
    "Keressük $N_1$ és $N_2$ azon $\\alpha$ arányú keverékét, mely minimalizálja $x$ és a keverék közötti Mahalanobis távolságot.\n",
    "\n",
    "Mahalanobis távolság: $ M = (x - \\mu)^T \\Sigma^{-1} (x - \\mu) $,\n",
    "\n",
    "esetünkben $ \\mu = \\mu_1 + \\alpha \\mu_2 $ és $ \\Sigma = \\Sigma_1 \\alpha W $\n",
    "\n",
    "$$ D = (x - \\mu_1 - \\alpha * \\mu_2)^T . (\\Sigma_1 . \\alpha W)^{-1} . (x - \\mu_1 - \\alpha * \\mu_2) $$\n",
    "\n",
    "Ez az az $\\alpha$ érték lesz, amelynél a fenti kifejezés alfa tekintetében vett első deriváltja 0-t vesz fel.\n",
    "\".\" operátor a mátrix szorzást jelöli, \"*\" operátort skaláris szorzás esetén használtam."
   ]
  },
  {
   "cell_type": "heading",
   "metadata": {},
   "level": 1,
   "source": [
    "MY APPROACH"
   ]
  },
  {
   "cell_type": "markdown",
   "metadata": {},
   "source": [
    "Derivative of the Mahalanobis distance (https://math.stackexchange.com/questions/623097/differentiating-mahalanobis-distance):\n",
    "\n",
    "$$ \\frac {\\partial M} {\\partial \\Sigma} = -\\Sigma^{-1} (x - \\mu)(x - \\mu) \\Sigma^{-1} $$\n",
    "\n",
    "and\n",
    "\n",
    "$$ \\frac {\\partial M} {\\partial \\mu} = -2\\Sigma^{-1} (x - \\mu) $$\n",
    "\n",
    "For our approach, we need the derivatives with respect to $\\alpha$, so we apply the chain rule:\n",
    "\n",
    "$$ \\frac {\\partial D} {\\partial \\alpha} = \n",
    "\\frac {\\partial D} {\\partial \\Sigma} \\frac {\\partial \\Sigma} {\\partial \\alpha} + \n",
    "\\frac {\\partial D} {\\partial \\mu} \\frac {\\partial \\mu} {\\partial \\alpha} $$\n",
    "\n"
   ]
  },
  {
   "cell_type": "markdown",
   "metadata": {},
   "source": [
    "Working out the derivatives:\n",
    "\n",
    "$$ \\frac {\\partial \\Sigma} {\\partial \\alpha} = \\frac {\\partial} {\\partial \\alpha} C_0 . \\alpha W = C_0W $$\n",
    "\n",
    "$$ \\frac {\\partial \\mu} {\\partial \\alpha} = \\frac {\\partial} {\\partial \\alpha} \\mu_0 + \\alpha \\mu_1 = \\mu_1 $$\n",
    "\n",
    "So our distance equation's derivative wrt. $\\alpha$ is\n",
    "\n",
    "$$ \\frac {\\partial D} {\\partial \\alpha} = -\\Sigma^{-1} (x - \\mu) (x - \\mu) \\Sigma^{-1} C_0W - 2 \\Sigma^{-1} (x - \\mu) \\mu_1 $$"
   ]
  },
  {
   "cell_type": "markdown",
   "metadata": {},
   "source": [
    "Equating this to zero, rearranging and multipliing each side with $\\Sigma$ from the left yields\n",
    "\n",
    "$$ (x - \\mu) (x - \\mu) \\Sigma^{-1} C_0W = - 2 (x - \\mu) \\mu_1 $$\n",
    "\n",
    "Expanding on the left side by $ \\Sigma^{-1} = \\alpha^{-1} C_0^{-1} W^{-1} $ and simplifiing yields\n",
    "\n",
    "$$ \\alpha^{-1} (x - \\mu) (x - \\mu) = - 2 (x - \\mu) \\mu_1 $$"
   ]
  },
  {
   "cell_type": "markdown",
   "metadata": {},
   "source": [
    "Multipliing by $ (x - \\mu)^T $ and simplifiing by the resulting $|| x - \\mu ||^2$ terms yields\n",
    "\n",
    "$$ \\alpha^{-1} (x - \\mu) = -2 \\mu_1 $$\n",
    "\n",
    "Expanding by $ \\mu = \\mu_0 + \\alpha \\mu_1 $ and adding $\\mu_1$ to both sides yields\n",
    "\n",
    "$$ \\alpha^{-1} x - \\alpha^{-1} \\mu_0 = - \\mu_1 $$"
   ]
  },
  {
   "cell_type": "markdown",
   "metadata": {},
   "source": [
    "Rearranging yields\n",
    "\n",
    "$$ \\alpha \\mu_1 =  \\mu_0 - x $$\n",
    "\n",
    "Multipliing each side with $\\mu_1^T$  and rearranging yields\n",
    "\n",
    "$$ \\alpha = \\frac {\\mu_1^T(\\mu_0 - x)} {||\\mu_1||^2} $$"
   ]
  },
  {
   "cell_type": "code",
   "execution_count": null,
   "metadata": {},
   "outputs": [],
   "source": []
  }
 ],
 "metadata": {
  "kernelspec": {
   "display_name": "Python 2",
   "language": "python",
   "name": "python2"
  },
  "language_info": {
   "codemirror_mode": {
    "name": "ipython",
    "version": 2
   },
   "file_extension": ".py",
   "mimetype": "text/x-python",
   "name": "python",
   "nbconvert_exporter": "python",
   "pygments_lexer": "ipython2",
   "version": "2.7.6"
  }
 },
 "nbformat": 4,
 "nbformat_minor": 0
}
