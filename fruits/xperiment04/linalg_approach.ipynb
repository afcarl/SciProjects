{
 "cells": [
  {
   "cell_type": "markdown",
   "metadata": {
    "collapsed": true
   },
   "source": [
    "Adott $N_1(\\mu_1, \\Sigma_1)$ és $N_2(\\mu_2, \\Sigma_2)$ két darab kétváltozós normál eloszlás.\n",
    "\n",
    "$N_1$ eloszlásból $N_2$ eloszlást $W$ transzformációval és $b$ eltolással nyerjük.\n",
    "\n",
    "$ W = \\Sigma_1^{-1} \\Sigma_2 $\n",
    "\n",
    "$ b = \\mu_2 - \\mu_1 $\n",
    "\n",
    "Adott $x$ pont (vektor) ebben a térben.\n",
    "\n",
    "Keressük $N_1$ és $N_2$ azon $\\alpha$ arányú keverékét, mely minimalizálja $x$ és a keverék közötti Mahalanobis távolságot.\n",
    "\n",
    "Mahalanobis távolság: $ M = (x - \\mu)^T \\Sigma^{-1} (x - \\mu) $,\n",
    "\n",
    "esetünkben $ x = \\mu_1 + \\alpha \\mu2 $ és $ \\Sigma = \\Sigma_1 \\alpha T $\n",
    "\n",
    "$$ arg min_{\\alpha} (x - \\mu_1 - \\alpha * mu_2)^T . (\\Sigma_1 . \\alpha T)^{-1} . (x - (\\mu_1 + \\alpha * \\mu_2)) $$"
   ]
  },
  {
   "cell_type": "code",
   "execution_count": null,
   "metadata": {},
   "outputs": [],
   "source": []
  }
 ],
 "metadata": {
  "kernelspec": {
   "display_name": "Python 2",
   "language": "python",
   "name": "python2"
  },
  "language_info": {
   "codemirror_mode": {
    "name": "ipython",
    "version": 2
   },
   "file_extension": ".py",
   "mimetype": "text/x-python",
   "name": "python",
   "nbconvert_exporter": "python",
   "pygments_lexer": "ipython2",
   "version": "2.7.6"
  }
 },
 "nbformat": 4,
 "nbformat_minor": 0
}
